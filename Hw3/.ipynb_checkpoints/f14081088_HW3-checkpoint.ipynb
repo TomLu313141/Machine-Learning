{
 "cells": [
  {
   "cell_type": "code",
   "execution_count": 1,
   "id": "058d01dd",
   "metadata": {},
   "outputs": [
    {
     "name": "stdout",
     "output_type": "stream",
     "text": [
      "u_1 :  [0.7, 1.0]\n",
      "z_1 :  [1.         0.60436778 0.76159416]\n"
     ]
    }
   ],
   "source": [
    "import numpy as np\n",
    "\n",
    "u_1 = []\n",
    "z_1 = []\n",
    "\n",
    "u_1.append(1 * 0.1 + 2 * 0.3)  # x = 2\n",
    "u_1.append(1 * 0.2 + 2 * 0.4)\n",
    "\n",
    "# u_1 = np.array(u_1)\n",
    "\n",
    "z_1 = np.tanh(u_1)\n",
    "z_1 = np.insert(z_1, 0, 1)  # insert(list, index, object)\n",
    "\n",
    "print(\"u_1 : \", u_1)\n",
    "print(\"z_1 : \", z_1)"
   ]
  },
  {
   "cell_type": "code",
   "execution_count": 2,
   "id": "036aefdc",
   "metadata": {},
   "outputs": [
    {
     "name": "stdout",
     "output_type": "stream",
     "text": [
      "u_2 :  [-0.41882053 -0.41882053]\n",
      "z_2 :  [ 1.         -0.39593633 -0.39593633]\n"
     ]
    }
   ],
   "source": [
    "u_2 = []\n",
    "z_2 = []\n",
    "\n",
    "u_2.append(z_1[0] * 0.5 + z_1[1]* 1 + z_1[2]* (-2))\n",
    "u_2.append(z_1[0] * 0.5 + z_1[1]* 1 + z_1[2]* (-2))\n",
    "\n",
    "u_2 = np.array(u_2)\n",
    "\n",
    "z_2 = np.tanh(u_2)\n",
    "z_2 = np.insert(z_2, 0, 1)  # insert(list, index, object)\n",
    "\n",
    "print(\"u_2 : \", u_2)\n",
    "print(\"z_2 : \", z_2)"
   ]
  },
  {
   "cell_type": "code",
   "execution_count": 3,
   "id": "36364fa3",
   "metadata": {},
   "outputs": [
    {
     "name": "stdout",
     "output_type": "stream",
     "text": [
      "u_3 :  [-0.97968166]\n",
      "y_3 :  [-0.75292806]\n"
     ]
    }
   ],
   "source": [
    "u_3 = []\n",
    "y_3 = []\n",
    "\n",
    "u_3.append(z_2[0] * 1 + z_2[1]* 2 + z_2[2]* 3)\n",
    "\n",
    "u_3 = np.array(u_3)\n",
    "\n",
    "y_3 = np.tanh(u_3)\n",
    "\n",
    "print(\"u_3 : \", u_3)\n",
    "print(\"y_3 : \", y_3)"
   ]
  },
  {
   "cell_type": "code",
   "execution_count": 37,
   "id": "88556928",
   "metadata": {},
   "outputs": [
    {
     "name": "stdout",
     "output_type": "stream",
     "text": [
      "[-0.75919197]\n"
     ]
    }
   ],
   "source": [
    "# (tanh)' = sech ^ 2\n",
    "\n",
    "def sech(x):\n",
    "    tmp = 1 / np.cosh(x)\n",
    "    ans = tmp * tmp\n",
    "    \n",
    "    return ans\n",
    "\n",
    "delta_3 = (y_3[0] - 1) * sech(u_3)\n",
    "\n",
    "print(delta_3)"
   ]
  },
  {
   "cell_type": "code",
   "execution_count": 19,
   "id": "1b2290da",
   "metadata": {},
   "outputs": [
    {
     "name": "stdout",
     "output_type": "stream",
     "text": [
      "[0. 0.]\n"
     ]
    }
   ],
   "source": [
    "y_2 = 0\n",
    "t_2 = 0\n",
    "\n",
    "delta_2 = (y_2 - t_2) * sech(u_2)\n",
    "print(delta_2)"
   ]
  },
  {
   "cell_type": "code",
   "execution_count": 20,
   "id": "15a1ee98",
   "metadata": {},
   "outputs": [
    {
     "name": "stdout",
     "output_type": "stream",
     "text": [
      "[0. 0.]\n"
     ]
    }
   ],
   "source": [
    "y_1 = 0\n",
    "t_1 = 0\n",
    "\n",
    "delta_1 = (y_1 - t_1) * sech(u_1)\n",
    "print(delta_1)"
   ]
  },
  {
   "cell_type": "code",
   "execution_count": 21,
   "id": "c4bb2352",
   "metadata": {},
   "outputs": [
    {
     "name": "stdout",
     "output_type": "stream",
     "text": [
      "[0.60436778 0.76159416]\n"
     ]
    }
   ],
   "source": [
    "ans = np.tanh([0.7, 1])\n",
    "print(ans)"
   ]
  },
  {
   "cell_type": "code",
   "execution_count": null,
   "id": "4b755bbb",
   "metadata": {},
   "outputs": [],
   "source": []
  }
 ],
 "metadata": {
  "kernelspec": {
   "display_name": "Python 3 (ipykernel)",
   "language": "python",
   "name": "python3"
  },
  "language_info": {
   "codemirror_mode": {
    "name": "ipython",
    "version": 3
   },
   "file_extension": ".py",
   "mimetype": "text/x-python",
   "name": "python",
   "nbconvert_exporter": "python",
   "pygments_lexer": "ipython3",
   "version": "3.9.12"
  }
 },
 "nbformat": 4,
 "nbformat_minor": 5
}
