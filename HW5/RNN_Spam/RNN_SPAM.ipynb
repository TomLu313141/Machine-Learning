{
  "nbformat": 4,
  "nbformat_minor": 0,
  "metadata": {
    "colab": {
      "provenance": []
    },
    "kernelspec": {
      "name": "python3",
      "display_name": "Python 3"
    },
    "language_info": {
      "name": "python"
    }
  },
  "cells": [
    {
      "cell_type": "markdown",
      "source": [
        "Import modules"
      ],
      "metadata": {
        "id": "eB7zwyy8pU-T"
      }
    },
    {
      "cell_type": "code",
      "execution_count": 1,
      "metadata": {
        "id": "lkOZo0NxFP2e"
      },
      "outputs": [],
      "source": [
        "from keras.layers import SimpleRNN, Embedding, Dense\n",
        "from keras.models import Sequential\n",
        "\n",
        "import pandas as pd\n",
        "import numpy as np\n",
        "import matplotlib.pyplot as plt"
      ]
    },
    {
      "cell_type": "markdown",
      "source": [
        "Read spam.csv"
      ],
      "metadata": {
        "id": "gi2Jp_E0pYK1"
      }
    },
    {
      "cell_type": "code",
      "source": [
        "data = pd.read_csv(\"/content/drive/MyDrive/Colab Notebooks/Datasets/SPAM.csv\")"
      ],
      "metadata": {
        "id": "3LvBEFlbogdP"
      },
      "execution_count": 2,
      "outputs": []
    },
    {
      "cell_type": "markdown",
      "source": [
        "Calculate the number of texts"
      ],
      "metadata": {
        "id": "UyMmmEX8pb9b"
      }
    },
    {
      "cell_type": "code",
      "source": [
        "texts = []\n",
        "labels = []\n",
        "\n",
        "for i, label in enumerate(data['Category']):\n",
        "    texts.append(data['Message'][i])\n",
        "    if label == 'ham':\n",
        "        labels.append(0)\n",
        "    else:\n",
        "        labels.append(1)\n",
        "\n",
        "texts = np.asarray(texts)\n",
        "labels = np.asarray(labels)\n",
        "\n",
        "print(\"number of texts :\" , len(texts))\n",
        "print(\"number of labels:\", len(labels))"
      ],
      "metadata": {
        "colab": {
          "base_uri": "https://localhost:8080/"
        },
        "id": "4poDhNh2pC0k",
        "outputId": "5efbd299-23de-4264-fe35-5a11a782350a"
      },
      "execution_count": 3,
      "outputs": [
        {
          "output_type": "stream",
          "name": "stdout",
          "text": [
            "number of texts : 5459\n",
            "number of labels: 5459\n"
          ]
        }
      ]
    },
    {
      "cell_type": "markdown",
      "source": [
        "Split dataset into train and test sets"
      ],
      "metadata": {
        "id": "D5iul5brpo5J"
      }
    },
    {
      "cell_type": "code",
      "source": [
        "train = int(len(texts) * 0.8)\n",
        "test = int(len(texts) - train)\n",
        "\n",
        "print(\"The number of train is {0}, test is {1} \".format(train, test))"
      ],
      "metadata": {
        "colab": {
          "base_uri": "https://localhost:8080/"
        },
        "id": "x_Om0RbwqCen",
        "outputId": "1703bb2c-7769-4723-9114-7250f0939001"
      },
      "execution_count": 5,
      "outputs": [
        {
          "output_type": "stream",
          "name": "stdout",
          "text": [
            "The number of train is 4367, test is 1092 \n"
          ]
        }
      ]
    },
    {
      "cell_type": "markdown",
      "source": [
        "Tokenize"
      ],
      "metadata": {
        "id": "8BNQmWykrOzP"
      }
    },
    {
      "cell_type": "code",
      "source": [
        "from keras.preprocessing.text import Tokenizer\n",
        "from keras_preprocessing.sequence import pad_sequences\n",
        "\n",
        "# number of words used as features\n",
        "max_features = 10000\n",
        "# cut off the words after seeing 500 words in each document(email)\n",
        "maxlen = 500\n",
        "\n",
        "tokenizer = Tokenizer()\n",
        "tokenizer.fit_on_texts(texts)\n",
        "sequences = tokenizer.texts_to_sequences(texts)\n",
        "\n",
        "word_index = tokenizer.word_index\n",
        "print(\"Found {0} unique words: \".format(len(word_index)))\n",
        "\n",
        "data = pad_sequences(sequences, maxlen=maxlen)\n",
        "\n",
        "print(\"data shape: \", data.shape)"
      ],
      "metadata": {
        "colab": {
          "base_uri": "https://localhost:8080/"
        },
        "id": "iUt_cR9QrOOo",
        "outputId": "aa22ac85-84f1-4c85-82c4-f8b741170b32"
      },
      "execution_count": 6,
      "outputs": [
        {
          "output_type": "stream",
          "name": "stdout",
          "text": [
            "Found 8546 unique words: \n",
            "data shape:  (5459, 500)\n"
          ]
        }
      ]
    },
    {
      "cell_type": "code",
      "source": [
        "x_train = data[:train]\n",
        "y_train = labels[:train]\n",
        "\n",
        "x_test = data[train:]\n",
        "y_test = labels[train:]\n",
        "\n",
        "print(\"x_train's shape is {0}, y_train's shape is {1}\".format(x_train.shape, y_train.shape))\n",
        "print(\"x_test's shape is {0}, y_test's shape is {1}\".format(x_test.shape, y_test.shape))"
      ],
      "metadata": {
        "colab": {
          "base_uri": "https://localhost:8080/"
        },
        "id": "xaAvg--kqsge",
        "outputId": "2b15c757-0078-4d7b-ef8f-4483c57bde4b"
      },
      "execution_count": 7,
      "outputs": [
        {
          "output_type": "stream",
          "name": "stdout",
          "text": [
            "x_train's shape is (4367, 500), y_train's shape is (4367,)\n",
            "x_test's shape is (1092, 500), y_test's shape is (1092,)\n"
          ]
        }
      ]
    },
    {
      "cell_type": "markdown",
      "source": [
        "Create model"
      ],
      "metadata": {
        "id": "GqmCd3xTshHs"
      }
    },
    {
      "cell_type": "code",
      "source": [
        "model_rnn = Sequential()\n",
        "model_rnn.add(Embedding(max_features, 32))\n",
        "model_rnn.add(SimpleRNN(32))\n",
        "model_rnn.add(Dense(1, activation='sigmoid'))"
      ],
      "metadata": {
        "id": "s6lzFFOqryGe"
      },
      "execution_count": 9,
      "outputs": []
    },
    {
      "cell_type": "code",
      "source": [
        "model_rnn.compile(optimizer='rmsprop', loss='binary_crossentropy', metrics=['acc'])\n",
        "history_rnn = model_rnn.fit(x_train, y_train, epochs=10, batch_size=60, validation_split=0.2)"
      ],
      "metadata": {
        "colab": {
          "base_uri": "https://localhost:8080/"
        },
        "id": "5HPlO5Vvsf6W",
        "outputId": "77d4d9bb-f37b-4de6-9bbc-809eaa1f94b8"
      },
      "execution_count": 10,
      "outputs": [
        {
          "output_type": "stream",
          "name": "stdout",
          "text": [
            "Epoch 1/10\n",
            "59/59 [==============================] - 9s 117ms/step - loss: 0.3845 - acc: 0.8609 - val_loss: 0.2237 - val_acc: 0.9085\n",
            "Epoch 2/10\n",
            "59/59 [==============================] - 7s 112ms/step - loss: 0.1081 - acc: 0.9719 - val_loss: 0.0750 - val_acc: 0.9817\n",
            "Epoch 3/10\n",
            "59/59 [==============================] - 7s 113ms/step - loss: 0.0628 - acc: 0.9823 - val_loss: 0.0548 - val_acc: 0.9863\n",
            "Epoch 4/10\n",
            "59/59 [==============================] - 7s 112ms/step - loss: 0.0756 - acc: 0.9725 - val_loss: 0.0538 - val_acc: 0.9863\n",
            "Epoch 5/10\n",
            "59/59 [==============================] - 9s 162ms/step - loss: 0.0285 - acc: 0.9917 - val_loss: 0.0485 - val_acc: 0.9863\n",
            "Epoch 6/10\n",
            "59/59 [==============================] - 14s 235ms/step - loss: 0.0225 - acc: 0.9928 - val_loss: 0.0456 - val_acc: 0.9886\n",
            "Epoch 7/10\n",
            "59/59 [==============================] - 9s 151ms/step - loss: 0.0133 - acc: 0.9969 - val_loss: 0.0495 - val_acc: 0.9874\n",
            "Epoch 8/10\n",
            "59/59 [==============================] - 8s 139ms/step - loss: 0.0271 - acc: 0.9900 - val_loss: 0.0971 - val_acc: 0.9714\n",
            "Epoch 9/10\n",
            "59/59 [==============================] - 7s 113ms/step - loss: 0.0093 - acc: 0.9974 - val_loss: 0.0630 - val_acc: 0.9851\n",
            "Epoch 10/10\n",
            "59/59 [==============================] - 7s 112ms/step - loss: 0.0096 - acc: 0.9969 - val_loss: 0.0630 - val_acc: 0.9828\n"
          ]
        }
      ]
    },
    {
      "cell_type": "markdown",
      "source": [
        "Plot training history (acc and loss)"
      ],
      "metadata": {
        "id": "KQtQPI2KyBig"
      }
    },
    {
      "cell_type": "code",
      "source": [
        "acc = history_rnn.history['acc']\n",
        "val_acc = history_rnn.history['val_acc']\n",
        "epochs = range(len(acc))\n",
        "\n",
        "plt.plot(epochs, acc, color='orange', label='train acc')\n",
        "plt.plot(epochs, val_acc, color='blue', label='val acc')\n",
        "plt.title('Train and val acc')\n",
        "plt.legend()\n",
        "plt.savefig('acc.png')\n",
        "plt.show()"
      ],
      "metadata": {
        "colab": {
          "base_uri": "https://localhost:8080/",
          "height": 281
        },
        "id": "iSNfRW1Ut36z",
        "outputId": "1368207f-0e20-4047-eeca-3a38e258326d"
      },
      "execution_count": 11,
      "outputs": [
        {
          "output_type": "display_data",
          "data": {
            "text/plain": [
              "<Figure size 432x288 with 1 Axes>"
            ],
            "image/png": "[encoded data removed]"
          },
          "metadata": {
            "needs_background": "light"
          }
        }
      ]
    },
    {
      "cell_type": "code",
      "source": [
        "loss = history_rnn.history['loss']\n",
        "val_loss = history_rnn.history['val_loss']\n",
        "plt.plot(epochs, loss, color='orange', label='train loss')\n",
        "plt.plot(epochs, val_loss, color='blue', label='val loss')\n",
        "plt.title('Train and val loss')\n",
        "plt.legend()\n",
        "plt.savefig('loss.png')\n",
        "plt.show()"
      ],
      "metadata": {
        "colab": {
          "base_uri": "https://localhost:8080/",
          "height": 281
        },
        "id": "5tJHEJCOuK_D",
        "outputId": "ac3a6a15-1bb2-4133-d954-a130b525b42d"
      },
      "execution_count": 12,
      "outputs": [
        {
          "output_type": "display_data",
          "data": {
            "text/plain": [
              "<Figure size 432x288 with 1 Axes>"
            ],
            "image/png": "[encoded data removed]"
          },
          "metadata": {
            "needs_background": "light"
          }
        }
      ]
    },
    {
      "cell_type": "markdown",
      "source": [
        "Plot ROC Curve（[Reference](https://www.dlology.com/blog/simple-guide-on-how-to-generate-roc-plot-for-keras-classifier/)）"
      ],
      "metadata": {
        "id": "hZi0_IZFyIdf"
      }
    },
    {
      "cell_type": "code",
      "source": [
        "from sklearn.metrics import roc_curve, auc\n",
        "from sklearn.metrics import roc_auc_score\n",
        "\n",
        "y_pred_rnn = model_rnn.predict(x_test).ravel()\n",
        "fpr_rnn, tpr_rnn, thresholds_rnn = roc_curve(y_test, y_pred_rnn)"
      ],
      "metadata": {
        "colab": {
          "base_uri": "https://localhost:8080/"
        },
        "id": "t7RJBRUTvMBp",
        "outputId": "c213cfc9-260c-4e65-b056-79c07b91d98e"
      },
      "execution_count": 13,
      "outputs": [
        {
          "output_type": "stream",
          "name": "stdout",
          "text": [
            "35/35 [==============================] - 1s 23ms/step\n"
          ]
        }
      ]
    },
    {
      "cell_type": "code",
      "source": [
        "from sklearn.metrics import auc\n",
        "auc_rnn = auc(fpr_rnn, tpr_rnn)"
      ],
      "metadata": {
        "id": "SrR8S9z6xUcU"
      },
      "execution_count": 14,
      "outputs": []
    },
    {
      "cell_type": "code",
      "source": [
        "plt.figure(1)\n",
        "plt.plot([0, 1], [0, 1], 'k--')\n",
        "plt.plot(fpr_rnn, tpr_rnn, label='RNN (area = {:.3f})'.format(auc_rnn))\n",
        "plt.xlabel('False positive rate')\n",
        "plt.ylabel('True positive rate')\n",
        "plt.title('ROC curve')\n",
        "plt.legend(loc='best')\n",
        "plt.savefig('ROC Curve.png')\n",
        "plt.show()"
      ],
      "metadata": {
        "colab": {
          "base_uri": "https://localhost:8080/",
          "height": 295
        },
        "id": "BmnYbFz-xLT9",
        "outputId": "64b5fcd1-fccc-4057-a48d-9ca3212e53c0"
      },
      "execution_count": 15,
      "outputs": [
        {
          "output_type": "display_data",
          "data": {
            "text/plain": [
              "<Figure size 432x288 with 1 Axes>"
            ],
            "image/png": "[encoded data removed]"
          },
          "metadata": {
            "needs_background": "light"
          }
        }
      ]
    },
    {
      "cell_type": "markdown",
      "source": [
        "Plot confusion matrix"
      ],
      "metadata": {
        "id": "CGe7QzFSzMGS"
      }
    },
    {
      "cell_type": "code",
      "source": [
        "from sklearn.metrics import confusion_matrix\n",
        "\n",
        "y_pred = model_rnn.predict(x_test)\n",
        "\n",
        "labels = ['ham', 'spam']\n",
        "\n",
        "# use seaborn plotting defaults\n",
        "import seaborn as sns; sns.set()\n",
        "\n",
        "y_pred = np.argmax(y_pred,axis=1)\n",
        "\n",
        "plt.figure()\n",
        "mat = confusion_matrix(y_test, y_pred)\n",
        "sns.heatmap(mat.T, square=True, annot=True, fmt='d', cbar=True, xticklabels=labels,yticklabels=labels)\n",
        "plt.xlabel('predicted label')\n",
        "plt.ylabel('true label');\n",
        "plt.savefig('Cof matrix')"
      ],
      "metadata": {
        "colab": {
          "base_uri": "https://localhost:8080/",
          "height": 303
        },
        "id": "R8G6x2OTzOT8",
        "outputId": "cc00d51b-2b37-4b27-d183-80376a697cf0"
      },
      "execution_count": 16,
      "outputs": [
        {
          "output_type": "stream",
          "name": "stdout",
          "text": [
            "35/35 [==============================] - 1s 23ms/step\n"
          ]
        },
        {
          "output_type": "display_data",
          "data": {
            "text/plain": [
              "<Figure size 432x288 with 2 Axes>"
            ],
            "image/png": "[encoded data removed]"
          },
          "metadata": {}
        }
      ]
    },
    {
      "cell_type": "code",
      "source": [
        "from sklearn.metrics import balanced_accuracy_score\n",
        "\n",
        "bacc = balanced_accuracy_score(y_test, y_pred)\n",
        "print(\"RNN balanced_accuracy_score: \", bacc)"
      ],
      "metadata": {
        "colab": {
          "base_uri": "https://localhost:8080/"
        },
        "id": "c_PH0kG6zwRY",
        "outputId": "261b0906-0bb4-478f-8305-ec449721dbb6"
      },
      "execution_count": 19,
      "outputs": [
        {
          "output_type": "stream",
          "name": "stdout",
          "text": [
            "RNN balanced_accuracy_score:  0.5\n"
          ]
        }
      ]
    }
  ]
}