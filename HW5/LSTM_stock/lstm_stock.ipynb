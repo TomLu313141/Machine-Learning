{
  "cells": [
    {
      "cell_type": "code",
      "source": [
        "import numpy as np\n",
        "import pandas as pd\n",
        "\n",
        "import os\n",
        "import matplotlib.pyplot as plt\n",
        "import pandas_datareader as web\n",
        "import datetime as dt\n",
        "\n",
        "from sklearn.preprocessing import MinMaxScaler\n",
        "from tensorflow.keras.models import Sequential\n",
        "from tensorflow.keras.layers import Dense, Dropout, LSTM\n",
        "from tensorflow.keras.callbacks import ModelCheckpoint, EarlyStopping"
      ],
      "metadata": {
        "id": "iHZpnz5r6sOW"
      },
      "execution_count": 11,
      "outputs": []
    },
    {
      "cell_type": "code",
      "source": [
        "from google.colab import drive\n",
        "drive.mount('/content/drive')"
      ],
      "metadata": {
        "colab": {
          "base_uri": "https://localhost:8080/"
        },
        "id": "M2iN0w745VAY",
        "outputId": "25878966-94b6-4116-dacd-6f104d839f08"
      },
      "execution_count": 2,
      "outputs": [
        {
          "output_type": "stream",
          "name": "stdout",
          "text": [
            "Mounted at /content/drive\n"
          ]
        }
      ]
    },
    {
      "cell_type": "code",
      "execution_count": 3,
      "metadata": {
        "colab": {
          "base_uri": "https://localhost:8080/",
          "height": 424
        },
        "id": "q5t4tyGr39pu",
        "outputId": "0cbcd8eb-e4ec-4185-c23f-23eee7a1ba87"
      },
      "outputs": [
        {
          "output_type": "execute_result",
          "data": {
            "text/plain": [
              "           date   open\n",
              "0      2013/2/8  15.07\n",
              "1     2013/2/11  14.89\n",
              "2     2013/2/12  14.45\n",
              "3     2013/2/13  14.30\n",
              "4     2013/2/14  14.94\n",
              "...         ...    ...\n",
              "1254   2018/2/1  54.00\n",
              "1255   2018/2/2  53.49\n",
              "1256   2018/2/5  51.99\n",
              "1257   2018/2/6  49.32\n",
              "1258   2018/2/7  50.91\n",
              "\n",
              "[1259 rows x 2 columns]"
            ],
            "text/html": [
              "\n",
              "  <div id=\"df-f46fade9-7879-4b6c-8ddb-a6671b86ff36\">\n",
              "    <div class=\"colab-df-container\">\n",
              "      <div>\n",
              "<style scoped>\n",
              "    .dataframe tbody tr th:only-of-type {\n",
              "        vertical-align: middle;\n",
              "    }\n",
              "\n",
              "    .dataframe tbody tr th {\n",
              "        vertical-align: top;\n",
              "    }\n",
              "\n",
              "    .dataframe thead th {\n",
              "        text-align: right;\n",
              "    }\n",
              "</style>\n",
              "<table border=\"1\" class=\"dataframe\">\n",
              "  <thead>\n",
              "    <tr style=\"text-align: right;\">\n",
              "      <th></th>\n",
              "      <th>date</th>\n",
              "      <th>open</th>\n",
              "    </tr>\n",
              "  </thead>\n",
              "  <tbody>\n",
              "    <tr>\n",
              "      <th>0</th>\n",
              "      <td>2013/2/8</td>\n",
              "      <td>15.07</td>\n",
              "    </tr>\n",
              "    <tr>\n",
              "      <th>1</th>\n",
              "      <td>2013/2/11</td>\n",
              "      <td>14.89</td>\n",
              "    </tr>\n",
              "    <tr>\n",
              "      <th>2</th>\n",
              "      <td>2013/2/12</td>\n",
              "      <td>14.45</td>\n",
              "    </tr>\n",
              "    <tr>\n",
              "      <th>3</th>\n",
              "      <td>2013/2/13</td>\n",
              "      <td>14.30</td>\n",
              "    </tr>\n",
              "    <tr>\n",
              "      <th>4</th>\n",
              "      <td>2013/2/14</td>\n",
              "      <td>14.94</td>\n",
              "    </tr>\n",
              "    <tr>\n",
              "      <th>...</th>\n",
              "      <td>...</td>\n",
              "      <td>...</td>\n",
              "    </tr>\n",
              "    <tr>\n",
              "      <th>1254</th>\n",
              "      <td>2018/2/1</td>\n",
              "      <td>54.00</td>\n",
              "    </tr>\n",
              "    <tr>\n",
              "      <th>1255</th>\n",
              "      <td>2018/2/2</td>\n",
              "      <td>53.49</td>\n",
              "    </tr>\n",
              "    <tr>\n",
              "      <th>1256</th>\n",
              "      <td>2018/2/5</td>\n",
              "      <td>51.99</td>\n",
              "    </tr>\n",
              "    <tr>\n",
              "      <th>1257</th>\n",
              "      <td>2018/2/6</td>\n",
              "      <td>49.32</td>\n",
              "    </tr>\n",
              "    <tr>\n",
              "      <th>1258</th>\n",
              "      <td>2018/2/7</td>\n",
              "      <td>50.91</td>\n",
              "    </tr>\n",
              "  </tbody>\n",
              "</table>\n",
              "<p>1259 rows × 2 columns</p>\n",
              "</div>\n",
              "      <button class=\"colab-df-convert\" onclick=\"convertToInteractive('df-f46fade9-7879-4b6c-8ddb-a6671b86ff36')\"\n",
              "              title=\"Convert this dataframe to an interactive table.\"\n",
              "              style=\"display:none;\">\n",
              "        \n",
              "  <svg xmlns=\"http://www.w3.org/2000/svg\" height=\"24px\"viewBox=\"0 0 24 24\"\n",
              "       width=\"24px\">\n",
              "    <path d=\"M0 0h24v24H0V0z\" fill=\"none\"/>\n",
              "    <path d=\"M18.56 5.44l.94 2.06.94-2.06 2.06-.94-2.06-.94-.94-2.06-.94 2.06-2.06.94zm-11 1L8.5 8.5l.94-2.06 2.06-.94-2.06-.94L8.5 2.5l-.94 2.06-2.06.94zm10 10l.94 2.06.94-2.06 2.06-.94-2.06-.94-.94-2.06-.94 2.06-2.06.94z\"/><path d=\"M17.41 7.96l-1.37-1.37c-.4-.4-.92-.59-1.43-.59-.52 0-1.04.2-1.43.59L10.3 9.45l-7.72 7.72c-.78.78-.78 2.05 0 2.83L4 21.41c.39.39.9.59 1.41.59.51 0 1.02-.2 1.41-.59l7.78-7.78 2.81-2.81c.8-.78.8-2.07 0-2.86zM5.41 20L4 18.59l7.72-7.72 1.47 1.35L5.41 20z\"/>\n",
              "  </svg>\n",
              "      </button>\n",
              "      \n",
              "  <style>\n",
              "    .colab-df-container {\n",
              "      display:flex;\n",
              "      flex-wrap:wrap;\n",
              "      gap: 12px;\n",
              "    }\n",
              "\n",
              "    .colab-df-convert {\n",
              "      background-color: #E8F0FE;\n",
              "      border: none;\n",
              "      border-radius: 50%;\n",
              "      cursor: pointer;\n",
              "      display: none;\n",
              "      fill: #1967D2;\n",
              "      height: 32px;\n",
              "      padding: 0 0 0 0;\n",
              "      width: 32px;\n",
              "    }\n",
              "\n",
              "    .colab-df-convert:hover {\n",
              "      background-color: #E2EBFA;\n",
              "      box-shadow: 0px 1px 2px rgba(60, 64, 67, 0.3), 0px 1px 3px 1px rgba(60, 64, 67, 0.15);\n",
              "      fill: #174EA6;\n",
              "    }\n",
              "\n",
              "    [theme=dark] .colab-df-convert {\n",
              "      background-color: #3B4455;\n",
              "      fill: #D2E3FC;\n",
              "    }\n",
              "\n",
              "    [theme=dark] .colab-df-convert:hover {\n",
              "      background-color: #434B5C;\n",
              "      box-shadow: 0px 1px 3px 1px rgba(0, 0, 0, 0.15);\n",
              "      filter: drop-shadow(0px 1px 2px rgba(0, 0, 0, 0.3));\n",
              "      fill: #FFFFFF;\n",
              "    }\n",
              "  </style>\n",
              "\n",
              "      <script>\n",
              "        const buttonEl =\n",
              "          document.querySelector('#df-f46fade9-7879-4b6c-8ddb-a6671b86ff36 button.colab-df-convert');\n",
              "        buttonEl.style.display =\n",
              "          google.colab.kernel.accessAllowed ? 'block' : 'none';\n",
              "\n",
              "        async function convertToInteractive(key) {\n",
              "          const element = document.querySelector('#df-f46fade9-7879-4b6c-8ddb-a6671b86ff36');\n",
              "          const dataTable =\n",
              "            await google.colab.kernel.invokeFunction('convertToInteractive',\n",
              "                                                     [key], {});\n",
              "          if (!dataTable) return;\n",
              "\n",
              "          const docLinkHtml = 'Like what you see? Visit the ' +\n",
              "            '<a target=\"_blank\" href=https://colab.research.google.com/notebooks/data_table.ipynb>data table notebook</a>'\n",
              "            + ' to learn more about interactive tables.';\n",
              "          element.innerHTML = '';\n",
              "          dataTable['output_type'] = 'display_data';\n",
              "          await google.colab.output.renderOutput(dataTable, element);\n",
              "          const docLink = document.createElement('div');\n",
              "          docLink.innerHTML = docLinkHtml;\n",
              "          element.appendChild(docLink);\n",
              "        }\n",
              "      </script>\n",
              "    </div>\n",
              "  </div>\n",
              "  "
            ]
          },
          "metadata": {},
          "execution_count": 3
        }
      ],
      "source": [
        "import pandas as pd\n",
        "import numpy as np\n",
        "import matplotlib.pyplot as plt\n",
        "data_df = pd.read_csv('/content/drive/MyDrive/Colab Notebooks/Datasets/stock.csv')\n",
        "data_df"
      ]
    },
    {
      "cell_type": "code",
      "execution_count": 4,
      "metadata": {
        "colab": {
          "base_uri": "https://localhost:8080/",
          "height": 297
        },
        "id": "5JhzbyiK39py",
        "outputId": "bd2b7d08-7d20-4812-e9e0-957c56a4db8f"
      },
      "outputs": [
        {
          "output_type": "execute_result",
          "data": {
            "text/plain": [
              "Text(0, 0.5, 'Price')"
            ]
          },
          "metadata": {},
          "execution_count": 4
        },
        {
          "output_type": "display_data",
          "data": {
            "text/plain": [
              "<Figure size 432x288 with 1 Axes>"
            ],
            "image/png": "[encoded data removed]"
          },
          "metadata": {
            "needs_background": "light"
          }
        }
      ],
      "source": [
        "data_df['open'].plot()\n",
        "plt.xlabel('Date')\n",
        "plt.ylabel('Price')"
      ]
    },
    {
      "cell_type": "code",
      "execution_count": 5,
      "metadata": {
        "id": "ctbL-Xn239py"
      },
      "outputs": [],
      "source": [
        "from sklearn.preprocessing import MinMaxScaler\n",
        "data_rehsape = data_df['open'].values.reshape(-1,1).astype('float32')"
      ]
    },
    {
      "cell_type": "markdown",
      "source": [
        "Scale the data"
      ],
      "metadata": {
        "id": "rFVR6aOe_5_Q"
      }
    },
    {
      "cell_type": "code",
      "source": [
        "sc = MinMaxScaler(feature_range = (0, 1))\n",
        "training_set_scaled = sc.fit_transform(data_rehsape)"
      ],
      "metadata": {
        "id": "vp-gxJGZ_5jZ"
      },
      "execution_count": null,
      "outputs": []
    },
    {
      "cell_type": "code",
      "execution_count": 6,
      "metadata": {
        "id": "9sirgZ1339pz"
      },
      "outputs": [],
      "source": [
        "look_back = 3\n",
        "test_size = 250\n",
        "train, test = training_set_scaled[:-test_size], training_set_scaled[-test_size-look_back:] "
      ]
    },
    {
      "cell_type": "code",
      "source": [
        "# how many days to be the base of predictions\n",
        "prediction_days = 10\n",
        "\n",
        "x_train=[]\n",
        "y_train=[]\n",
        "\n",
        "for i in range(prediction_days, len(train)):\n",
        "    x_train.append(train[i-prediction_days:i,0])\n",
        "    y_train.append(train[i,0])\n",
        "    if i<=prediction_days:\n",
        "        print(x_train)\n",
        "        print(y_train)\n",
        "        print()\n",
        "\n",
        "#convert the x_train and y_train to numpy arrays\n",
        "x_train, y_train = np.array(x_train), np.array(y_train)\n",
        "\n",
        "#Reshape the data into 3 dimensional\n",
        "x_train = np.reshape(x_train, (x_train.shape[0], x_train.shape[1], 1))\n",
        "print(x_train.shape)"
      ],
      "metadata": {
        "colab": {
          "base_uri": "https://localhost:8080/"
        },
        "id": "jpju8_E8AiNk",
        "outputId": "1ae35d4f-0640-43d4-dc3a-0a52f32b2d38"
      },
      "execution_count": 27,
      "outputs": [
        {
          "output_type": "stream",
          "name": "stdout",
          "text": [
            "[array([0.0422782 , 0.03833514, 0.0286966 , 0.02541074, 0.03943044,\n",
            "       0.01730558, 0.02606788, 0.02256298, 0.01051477, 0.00941947],\n",
            "      dtype=float32)]\n",
            "[0.010076672]\n",
            "\n",
            "(999, 10, 1)\n"
          ]
        }
      ]
    },
    {
      "cell_type": "code",
      "execution_count": 24,
      "metadata": {
        "colab": {
          "base_uri": "https://localhost:8080/",
          "height": 297
        },
        "id": "wsHWe5Vp39pz",
        "outputId": "cf89559b-2353-4dec-b581-12bd015eea94"
      },
      "outputs": [
        {
          "output_type": "stream",
          "name": "stdout",
          "text": [
            "Train shape: (1009, 1)\n"
          ]
        },
        {
          "output_type": "display_data",
          "data": {
            "text/plain": [
              "<Figure size 432x288 with 1 Axes>"
            ],
            "image/png": "[encoded data removed]"
          },
          "metadata": {
            "needs_background": "light"
          }
        }
      ],
      "source": [
        "len_train = np.linspace(0, train.shape[0],train.shape[0]+1)\n",
        "plt.plot(len_train[1:],sc.inverse_transform(train.reshape(-1,1)))\n",
        "#plt.plot(len_test[1:],sc.inverse_transform(y_hat))\n",
        "plt.xlabel('Date') # set a xlabel\n",
        "plt.ylabel('Price')\n",
        "\n",
        "print('Train shape:', train.shape)"
      ]
    },
    {
      "cell_type": "code",
      "execution_count": 23,
      "metadata": {
        "colab": {
          "base_uri": "https://localhost:8080/",
          "height": 297
        },
        "id": "jlEIk49U39p0",
        "outputId": "c04a104d-42dc-4362-ca71-ec26310cc87f"
      },
      "outputs": [
        {
          "output_type": "stream",
          "name": "stdout",
          "text": [
            "Test shape: (253, 1)\n"
          ]
        },
        {
          "output_type": "display_data",
          "data": {
            "text/plain": [
              "<Figure size 432x288 with 1 Axes>"
            ],
            "image/png": "[encoded data removed]"
          },
          "metadata": {
            "needs_background": "light"
          }
        }
      ],
      "source": [
        "len_test = np.linspace(train.shape[0], test.shape[0]+train.shape[0],test.shape[0]+1)\n",
        "plt.plot(len_test[1:],sc.inverse_transform(test.reshape(-1,1)))\n",
        "#plt.plot(len_test[1:],sc.inverse_transform(y_hat))\n",
        "plt.xlabel('Date') # set a xlabel\n",
        "plt.ylabel('Price')\n",
        "\n",
        "print('Test shape:', test.shape)"
      ]
    },
    {
      "cell_type": "code",
      "source": [
        "def LSTM_model():\n",
        "    \n",
        "    model = Sequential()\n",
        "    \n",
        "    model.add(LSTM(units = 50, return_sequences = True, input_shape = (x_train.shape[1],1)))\n",
        "    model.add(Dropout(0.2))\n",
        "    model.add(LSTM(50, return_sequences=False))\n",
        "    model.add(Dense(25))\n",
        "    model.add(Dense(units=1))\n",
        "    \n",
        "    return model"
      ],
      "metadata": {
        "id": "bBCm8gMy6V6Z"
      },
      "execution_count": 28,
      "outputs": []
    },
    {
      "cell_type": "code",
      "source": [
        "model = LSTM_model()\n",
        "model.summary()\n",
        "model.compile(optimizer='adam', \n",
        "              loss='mean_squared_error')"
      ],
      "metadata": {
        "colab": {
          "base_uri": "https://localhost:8080/"
        },
        "id": "bWj4nVbF6wA-",
        "outputId": "279107db-ed00-42ad-8cc0-0ca5755e8cc7"
      },
      "execution_count": 29,
      "outputs": [
        {
          "output_type": "stream",
          "name": "stdout",
          "text": [
            "Model: \"sequential_1\"\n",
            "_________________________________________________________________\n",
            " Layer (type)                Output Shape              Param #   \n",
            "=================================================================\n",
            " lstm_1 (LSTM)               (None, 10, 50)            10400     \n",
            "                                                                 \n",
            " dropout_1 (Dropout)         (None, 10, 50)            0         \n",
            "                                                                 \n",
            " lstm_2 (LSTM)               (None, 50)                20200     \n",
            "                                                                 \n",
            " dense_1 (Dense)             (None, 25)                1275      \n",
            "                                                                 \n",
            " dense_2 (Dense)             (None, 1)                 26        \n",
            "                                                                 \n",
            "=================================================================\n",
            "Total params: 31,901\n",
            "Trainable params: 31,901\n",
            "Non-trainable params: 0\n",
            "_________________________________________________________________\n"
          ]
        }
      ]
    },
    {
      "cell_type": "code",
      "source": [
        "history_ltsm = model.fit(x_train, y_train, epochs=30, batch_size=60, validation_split=0.2)"
      ],
      "metadata": {
        "colab": {
          "base_uri": "https://localhost:8080/"
        },
        "id": "9Z3evA9I66_t",
        "outputId": "98b5ac72-ef6e-431d-a81b-30e767863a9f"
      },
      "execution_count": 30,
      "outputs": [
        {
          "output_type": "stream",
          "name": "stdout",
          "text": [
            "Epoch 1/30\n",
            "14/14 [==============================] - 6s 129ms/step - loss: 0.1023 - val_loss: 0.0271\n",
            "Epoch 2/30\n",
            "14/14 [==============================] - 0s 22ms/step - loss: 0.0146 - val_loss: 0.0079\n",
            "Epoch 3/30\n",
            "14/14 [==============================] - 0s 19ms/step - loss: 0.0074 - val_loss: 0.0023\n",
            "Epoch 4/30\n",
            "14/14 [==============================] - 0s 20ms/step - loss: 0.0038 - val_loss: 0.0019\n",
            "Epoch 5/30\n",
            "14/14 [==============================] - 0s 27ms/step - loss: 0.0025 - val_loss: 0.0020\n",
            "Epoch 6/30\n",
            "14/14 [==============================] - 0s 30ms/step - loss: 0.0023 - val_loss: 0.0019\n",
            "Epoch 7/30\n",
            "14/14 [==============================] - 0s 32ms/step - loss: 0.0023 - val_loss: 0.0017\n",
            "Epoch 8/30\n",
            "14/14 [==============================] - 0s 29ms/step - loss: 0.0022 - val_loss: 0.0017\n",
            "Epoch 9/30\n",
            "14/14 [==============================] - 0s 32ms/step - loss: 0.0022 - val_loss: 0.0018\n",
            "Epoch 10/30\n",
            "14/14 [==============================] - 0s 33ms/step - loss: 0.0021 - val_loss: 0.0017\n",
            "Epoch 11/30\n",
            "14/14 [==============================] - 0s 32ms/step - loss: 0.0021 - val_loss: 0.0017\n",
            "Epoch 12/30\n",
            "14/14 [==============================] - 0s 34ms/step - loss: 0.0021 - val_loss: 0.0017\n",
            "Epoch 13/30\n",
            "14/14 [==============================] - 0s 33ms/step - loss: 0.0021 - val_loss: 0.0018\n",
            "Epoch 14/30\n",
            "14/14 [==============================] - 0s 34ms/step - loss: 0.0022 - val_loss: 0.0017\n",
            "Epoch 15/30\n",
            "14/14 [==============================] - 0s 24ms/step - loss: 0.0021 - val_loss: 0.0017\n",
            "Epoch 16/30\n",
            "14/14 [==============================] - 0s 20ms/step - loss: 0.0021 - val_loss: 0.0017\n",
            "Epoch 17/30\n",
            "14/14 [==============================] - 0s 20ms/step - loss: 0.0020 - val_loss: 0.0017\n",
            "Epoch 18/30\n",
            "14/14 [==============================] - 0s 25ms/step - loss: 0.0020 - val_loss: 0.0017\n",
            "Epoch 19/30\n",
            "14/14 [==============================] - 0s 19ms/step - loss: 0.0020 - val_loss: 0.0017\n",
            "Epoch 20/30\n",
            "14/14 [==============================] - 0s 19ms/step - loss: 0.0019 - val_loss: 0.0018\n",
            "Epoch 21/30\n",
            "14/14 [==============================] - 0s 19ms/step - loss: 0.0019 - val_loss: 0.0017\n",
            "Epoch 22/30\n",
            "14/14 [==============================] - 0s 22ms/step - loss: 0.0019 - val_loss: 0.0017\n",
            "Epoch 23/30\n",
            "14/14 [==============================] - 0s 19ms/step - loss: 0.0019 - val_loss: 0.0017\n",
            "Epoch 24/30\n",
            "14/14 [==============================] - 0s 20ms/step - loss: 0.0019 - val_loss: 0.0018\n",
            "Epoch 25/30\n",
            "14/14 [==============================] - 0s 20ms/step - loss: 0.0020 - val_loss: 0.0016\n",
            "Epoch 26/30\n",
            "14/14 [==============================] - 0s 21ms/step - loss: 0.0019 - val_loss: 0.0016\n",
            "Epoch 27/30\n",
            "14/14 [==============================] - 0s 20ms/step - loss: 0.0018 - val_loss: 0.0016\n",
            "Epoch 28/30\n",
            "14/14 [==============================] - 0s 20ms/step - loss: 0.0017 - val_loss: 0.0016\n",
            "Epoch 29/30\n",
            "14/14 [==============================] - 0s 20ms/step - loss: 0.0018 - val_loss: 0.0016\n",
            "Epoch 30/30\n",
            "14/14 [==============================] - 0s 19ms/step - loss: 0.0017 - val_loss: 0.0017\n"
          ]
        }
      ]
    },
    {
      "cell_type": "code",
      "source": [
        "loss = history_ltsm.history['loss']\n",
        "val_loss = history_ltsm.history['val_loss']\n",
        "epochs = range(len(loss))\n",
        "plt.plot(epochs, loss, color='orange', label='train loss')\n",
        "plt.plot(epochs, val_loss, color='blue', label='val loss')\n",
        "plt.title('Train and val loss')\n",
        "plt.legend()\n",
        "plt.savefig('loss.png')\n",
        "plt.show()"
      ],
      "metadata": {
        "colab": {
          "base_uri": "https://localhost:8080/",
          "height": 281
        },
        "id": "pVGnuMHN8FI9",
        "outputId": "2179cc0f-6192-417b-8533-195405f294fb"
      },
      "execution_count": 31,
      "outputs": [
        {
          "output_type": "display_data",
          "data": {
            "text/plain": [
              "<Figure size 432x288 with 1 Axes>"
            ],
            "image/png": "[encoded data removed]"
          },
          "metadata": {
            "needs_background": "light"
          }
        }
      ]
    },
    {
      "cell_type": "markdown",
      "source": [
        "Create test dataset"
      ],
      "metadata": {
        "id": "CzGJTAaeCakP"
      }
    },
    {
      "cell_type": "code",
      "source": [
        "x_test = []\n",
        "y_test = dataset[training_data_len:,:]\n",
        "for i in range(60, len(test_data)):\n",
        "    x_test.append(test_data[i-60:i,0])"
      ],
      "metadata": {
        "id": "HKQaXKxkCcwm"
      },
      "execution_count": null,
      "outputs": []
    },
    {
      "cell_type": "code",
      "source": [
        "# how many days to be the base of predictions\n",
        "prediction_days = 10\n",
        "\n",
        "x_test=[]\n",
        "y_test=[]\n",
        "\n",
        "for i in range(prediction_days, len(test)):\n",
        "    x_test.append(test[i-prediction_days:i,0])\n",
        "    y_test.append(test[i,0])\n",
        "    if i<=prediction_days:\n",
        "        print(x_test)\n",
        "        print(y_test)\n",
        "        print()\n",
        "\n",
        "#convert into numpy arrays\n",
        "x_test, y_test = np.array(x_test), np.array(y_test)\n",
        "\n",
        "#Reshape the data into 3 dimensional\n",
        "x_test = np.reshape(x_test, (x_test.shape[0], x_test.shape[1], 1))\n",
        "print(x_test.shape)"
      ],
      "metadata": {
        "colab": {
          "base_uri": "https://localhost:8080/"
        },
        "id": "5YfsYOeMCkOr",
        "outputId": "f83c073d-72d3-4940-ac3b-6a82a72287da"
      },
      "execution_count": 34,
      "outputs": [
        {
          "output_type": "stream",
          "name": "stdout",
          "text": [
            "[array([0.7143483 , 0.70361435, 0.6994523 , 0.7334063 , 0.732092  ,\n",
            "       0.74742603, 0.754655  , 0.7526834 , 0.7380066 , 0.74194956],\n",
            "      dtype=float32)]\n",
            "[0.7307776]\n",
            "\n",
            "(243, 10, 1)\n"
          ]
        }
      ]
    },
    {
      "cell_type": "code",
      "source": [
        "y_test = np.reshape(y_test, (y_test.shape[0], 1))\n",
        "y_test = sc.inverse_transform(y_test)"
      ],
      "metadata": {
        "id": "7_LMaEFEE0Jb"
      },
      "execution_count": 43,
      "outputs": []
    },
    {
      "cell_type": "code",
      "source": [
        "y_pred = model.predict(x_test)\n",
        "y_pred = sc.inverse_transform(y_pred)"
      ],
      "metadata": {
        "colab": {
          "base_uri": "https://localhost:8080/"
        },
        "id": "3mTr_ZIpDhE9",
        "outputId": "529ab73d-50f2-428e-a90e-7c7bf48487b1"
      },
      "execution_count": 44,
      "outputs": [
        {
          "output_type": "stream",
          "name": "stdout",
          "text": [
            "8/8 [==============================] - 0s 5ms/step\n"
          ]
        }
      ]
    },
    {
      "cell_type": "code",
      "source": [
        "print(y_test)"
      ],
      "metadata": {
        "colab": {
          "base_uri": "https://localhost:8080/"
        },
        "id": "hNEXyfziES--",
        "outputId": "ae2c2001-300f-45ff-ff89-17d2c51dc3e8"
      },
      "execution_count": 45,
      "outputs": [
        {
          "output_type": "stream",
          "name": "stdout",
          "text": [
            "[[46.5     ]\n",
            " [46.42    ]\n",
            " [46.      ]\n",
            " [46.18    ]\n",
            " [46.32    ]\n",
            " [46.79    ]\n",
            " [46.67    ]\n",
            " [45.85    ]\n",
            " [46.410004]\n",
            " [45.02    ]\n",
            " [44.79    ]\n",
            " [44.5     ]\n",
            " [43.46    ]\n",
            " [43.73    ]\n",
            " [42.06    ]\n",
            " [40.5     ]\n",
            " [42.18    ]\n",
            " [42.      ]\n",
            " [42.18    ]\n",
            " [41.88    ]\n",
            " [39.78    ]\n",
            " [40.7     ]\n",
            " [41.69    ]\n",
            " [41.07    ]\n",
            " [41.83    ]\n",
            " [42.69    ]\n",
            " [41.85    ]\n",
            " [42.37    ]\n",
            " [42.33    ]\n",
            " [42.09    ]\n",
            " [41.15    ]\n",
            " [41.4     ]\n",
            " [41.53    ]\n",
            " [41.81    ]\n",
            " [42.78    ]\n",
            " [44.79    ]\n",
            " [43.95    ]\n",
            " [43.47    ]\n",
            " [44.03    ]\n",
            " [44.07    ]\n",
            " [44.71    ]\n",
            " [45.5     ]\n",
            " [45.5     ]\n",
            " [46.800003]\n",
            " [46.51    ]\n",
            " [43.91    ]\n",
            " [44.02    ]\n",
            " [42.76    ]\n",
            " [42.06    ]\n",
            " [43.67    ]\n",
            " [44.18    ]\n",
            " [44.      ]\n",
            " [44.6     ]\n",
            " [45.4     ]\n",
            " [47.03    ]\n",
            " [47.21    ]\n",
            " [46.259995]\n",
            " [45.7     ]\n",
            " [46.79    ]\n",
            " [46.25    ]\n",
            " [44.4     ]\n",
            " [44.8     ]\n",
            " [45.33    ]\n",
            " [46.269997]\n",
            " [46.739998]\n",
            " [46.99    ]\n",
            " [47.789997]\n",
            " [48.320004]\n",
            " [48.2     ]\n",
            " [48.499996]\n",
            " [49.559998]\n",
            " [49.53    ]\n",
            " [49.47    ]\n",
            " [49.44    ]\n",
            " [50.86    ]\n",
            " [51.610004]\n",
            " [50.1     ]\n",
            " [49.559998]\n",
            " [49.64    ]\n",
            " [49.14    ]\n",
            " [48.9     ]\n",
            " [49.13    ]\n",
            " [49.22    ]\n",
            " [48.330006]\n",
            " [50.5     ]\n",
            " [49.      ]\n",
            " [48.81    ]\n",
            " [48.6     ]\n",
            " [48.82    ]\n",
            " [49.28    ]\n",
            " [49.92    ]\n",
            " [50.78    ]\n",
            " [50.44    ]\n",
            " [50.97    ]\n",
            " [52.3     ]\n",
            " [52.979996]\n",
            " [52.58    ]\n",
            " [53.12    ]\n",
            " [53.4     ]\n",
            " [53.8     ]\n",
            " [54.21    ]\n",
            " [53.83    ]\n",
            " [52.260002]\n",
            " [52.719997]\n",
            " [52.129997]\n",
            " [51.79    ]\n",
            " [51.5     ]\n",
            " [50.63    ]\n",
            " [50.34    ]\n",
            " [49.02    ]\n",
            " [50.85    ]\n",
            " [51.13    ]\n",
            " [50.89    ]\n",
            " [50.560005]\n",
            " [50.669994]\n",
            " [50.820004]\n",
            " [50.679996]\n",
            " [49.74    ]\n",
            " [49.030003]\n",
            " [48.499996]\n",
            " [48.86    ]\n",
            " [48.759995]\n",
            " [48.640003]\n",
            " [48.250004]\n",
            " [46.3     ]\n",
            " [45.73    ]\n",
            " [45.85    ]\n",
            " [45.17    ]\n",
            " [44.13    ]\n",
            " [43.09    ]\n",
            " [45.23    ]\n",
            " [44.53    ]\n",
            " [44.54    ]\n",
            " [44.54    ]\n",
            " [44.85    ]\n",
            " [44.79    ]\n",
            " [43.09    ]\n",
            " [44.19    ]\n",
            " [43.81    ]\n",
            " [44.01    ]\n",
            " [45.9     ]\n",
            " [46.35    ]\n",
            " [46.79    ]\n",
            " [45.3     ]\n",
            " [46.020004]\n",
            " [45.28    ]\n",
            " [44.92    ]\n",
            " [45.47    ]\n",
            " [46.57    ]\n",
            " [46.98    ]\n",
            " [47.84    ]\n",
            " [47.58    ]\n",
            " [46.78    ]\n",
            " [47.49    ]\n",
            " [47.519997]\n",
            " [47.660004]\n",
            " [50.5     ]\n",
            " [50.85    ]\n",
            " [50.7     ]\n",
            " [51.23    ]\n",
            " [52.000004]\n",
            " [53.099995]\n",
            " [52.719997]\n",
            " [52.67    ]\n",
            " [52.519997]\n",
            " [52.719997]\n",
            " [52.11    ]\n",
            " [51.57    ]\n",
            " [51.56    ]\n",
            " [51.919994]\n",
            " [51.020004]\n",
            " [51.78    ]\n",
            " [52.000004]\n",
            " [48.41    ]\n",
            " [47.65    ]\n",
            " [47.22    ]\n",
            " [48.      ]\n",
            " [47.789997]\n",
            " [47.36    ]\n",
            " [47.460003]\n",
            " [47.509995]\n",
            " [46.42    ]\n",
            " [45.85    ]\n",
            " [45.64    ]\n",
            " [45.63    ]\n",
            " [45.3     ]\n",
            " [45.71    ]\n",
            " [47.260002]\n",
            " [47.6     ]\n",
            " [47.329998]\n",
            " [47.89    ]\n",
            " [48.579998]\n",
            " [48.66    ]\n",
            " [48.61    ]\n",
            " [48.440002]\n",
            " [49.380005]\n",
            " [49.760002]\n",
            " [49.67    ]\n",
            " [50.1     ]\n",
            " [49.85    ]\n",
            " [49.39    ]\n",
            " [49.53    ]\n",
            " [51.23    ]\n",
            " [50.78    ]\n",
            " [51.269997]\n",
            " [50.58    ]\n",
            " [50.59    ]\n",
            " [50.669994]\n",
            " [51.25    ]\n",
            " [51.600002]\n",
            " [51.57    ]\n",
            " [52.16    ]\n",
            " [52.719997]\n",
            " [52.35    ]\n",
            " [52.8     ]\n",
            " [52.45    ]\n",
            " [52.42    ]\n",
            " [52.329998]\n",
            " [52.860004]\n",
            " [52.48    ]\n",
            " [52.780003]\n",
            " [52.6     ]\n",
            " [52.97    ]\n",
            " [53.23    ]\n",
            " [54.49    ]\n",
            " [56.56    ]\n",
            " [58.79    ]\n",
            " [58.309998]\n",
            " [58.      ]\n",
            " [58.59    ]\n",
            " [57.989998]\n",
            " [57.74    ]\n",
            " [54.349995]\n",
            " [54.      ]\n",
            " [53.650005]\n",
            " [52.790005]\n",
            " [52.45    ]\n",
            " [53.08    ]\n",
            " [54.      ]\n",
            " [53.49    ]\n",
            " [51.99    ]\n",
            " [49.32    ]\n",
            " [50.91    ]]\n"
          ]
        }
      ]
    },
    {
      "cell_type": "code",
      "source": [
        "plt.plot(y_test, color='black', label=\"Actual\")\n",
        "plt.plot(y_pred, color= 'green', label=\"predicted\")\n",
        "plt.title(\"Test dataset\")\n",
        "plt.xlabel(\"Time\")\n",
        "plt.ylabel(\"Price\")\n",
        "plt.legend()\n",
        "plt.savefig('Test dataset')\n",
        "plt.show()"
      ],
      "metadata": {
        "colab": {
          "base_uri": "https://localhost:8080/",
          "height": 295
        },
        "id": "FvERxIgtD9Cx",
        "outputId": "50655222-5d01-4c9b-89b6-3c4c9eea90ec"
      },
      "execution_count": 48,
      "outputs": [
        {
          "output_type": "display_data",
          "data": {
            "text/plain": [
              "<Figure size 432x288 with 1 Axes>"
            ],
            "image/png": "[encoded data removed]"
          },
          "metadata": {
            "needs_background": "light"
          }
        }
      ]
    }
  ],
  "metadata": {
    "kernelspec": {
      "display_name": "Python 3",
      "language": "python",
      "name": "python3"
    },
    "language_info": {
      "codemirror_mode": {
        "name": "ipython",
        "version": 3
      },
      "file_extension": ".py",
      "mimetype": "text/x-python",
      "name": "python",
      "nbconvert_exporter": "python",
      "pygments_lexer": "ipython3",
      "version": "3.6.9"
    },
    "colab": {
      "provenance": []
    }
  },
  "nbformat": 4,
  "nbformat_minor": 0
}